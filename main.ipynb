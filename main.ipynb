{
 "cells": [
  {
   "cell_type": "code",
   "execution_count": 1,
   "metadata": {},
   "outputs": [],
   "source": [
    "import numpy as np\n",
    "import pandas as pd\n",
    "import matplotlib.pyplot as plt\n",
    "import os\n",
    "from sklearn.model_selection import train_test_split\n",
    "from sklearn.linear_model import LinearRegression\n",
    "from sklearn.metrics import r2_score"
   ]
  },
  {
   "cell_type": "code",
   "execution_count": null,
   "metadata": {},
   "outputs": [
    {
     "name": "stdout",
     "output_type": "stream",
     "text": [
      "Welcome to Salary Prediction System\n",
      "Press Enter key to proceed\n",
      "\n",
      "0 ... attachment_Salary-Data_lyst5512.csv\n",
      "Select file to create ML model0\n",
      "attachment_Salary-Data_lyst5512.csv is selected\n",
      "Reading csv file\n",
      "Creating Dataset\n",
      "Dataset created\n",
      "Enter test data size (between 0 and 1)0.3\n",
      "Model Creation in progress\n",
      "Model is created\n",
      "Press ENTER key to predict test data in trained model\n",
      "\n",
      "[[ 7.1]\n",
      " [ 3.7]\n",
      " [10.5]\n",
      " [ 4.9]\n",
      " [ 1.5]\n",
      " [ 2.9]\n",
      " [ 9.5]\n",
      " [ 6.8]\n",
      " [ 1.3]] .... [ 98273.  57189. 121872.  67938.  37731.  56642. 116969.  91738.  46205.] .... [ 92845.27878346  60171.38155024 125519.17601669  71703.34527961\n",
      "  39029.44804638  52483.40573065 115909.20624221  89962.28785112\n",
      "  37107.45409149]\n",
      "[7.1] .... 98273.0 .... 92845.27878346397\n",
      "[3.7] .... 57189.0 .... 60171.38155023634\n",
      "[10.5] .... 121872.0 .... 125519.1760166916\n",
      "[4.9] .... 67938.0 .... 71703.3452796108\n",
      "[1.5] .... 37731.0 .... 39029.44804638317\n",
      "[2.9] .... 56642.0 .... 52483.405730653365\n",
      "[9.5] .... 116969.0 .... 115909.2062422129\n",
      "[6.8] .... 91738.0 .... 89962.28785112036\n",
      "[1.3] .... 46205.0 .... 37107.45409148742\n",
      "Press ENTER Key to see above result in graphical format\n",
      "\n"
     ]
    },
    {
     "data": {
      "image/png": "[encoded data removed]",
      "text/plain": [
       "<Figure size 432x288 with 1 Axes>"
      ]
     },
     "metadata": {
      "needs_background": "light"
     },
     "output_type": "display_data"
    },
    {
     "name": "stdout",
     "output_type": "stream",
     "text": [
      "Our model is 97.76% accurate\n",
      "Now you can pridict salary of an employee using our model\n",
      "\n",
      "Enter experience in years for the Candidates, seprated by a comma\n",
      "6.5,6,10,20,9,11,12.5,14.5,16\n"
     ]
    },
    {
     "data": {
      "image/png": "[encoded data removed]",
      "text/plain": [
       "<Figure size 432x288 with 1 Axes>"
      ]
     },
     "metadata": {
      "needs_background": "light"
     },
     "output_type": "display_data"
    },
    {
     "name": "stdout",
     "output_type": "stream",
     "text": [
      "   Experience       Salaries\n",
      "0         6.5   87079.296919\n",
      "1         6.0   82274.312032\n",
      "2        10.0  120714.191129\n",
      "3        20.0  216813.888874\n",
      "4         9.0  111104.221355\n",
      "5        11.0  130324.160904\n",
      "6        12.5  144739.115566\n",
      "7        14.5  163959.055115\n",
      "8        16.0  178374.009776\n"
     ]
    }
   ],
   "source": [
    "def welcome():\n",
    "    print(\"Welcome to Salary Prediction System\")\n",
    "    print(\"Press Enter key to proceed\")\n",
    "    input()\n",
    "\n",
    "def checkcsv():\n",
    "    csv_files=[]\n",
    "    cur_dir=os.getcwd()\n",
    "    content_list=os.listdir(cur_dir)\n",
    "    \n",
    "    for x in content_list:\n",
    "        if x.split(\".\")[-1]=='csv':\n",
    "            csv_files.append(x)\n",
    "    if len(csv_files)==0:\n",
    "        return \"No csv file in the directory\"\n",
    "    else:\n",
    "        return csv_files\n",
    "\n",
    "def display_and_select_csv(csv_files):\n",
    "    i=0\n",
    "    for file_name in csv_files:\n",
    "        print(i,'...',file_name)\n",
    "        i+=1\n",
    "        \n",
    "    return csv_files[int(input(\"Select file to create ML model\"))]\n",
    "\n",
    "def graph(X_train,Y_train,regressionObject,X_test,Y_test,Y_pred):\n",
    "    plt.scatter(X_train,Y_train,color='red',label='Training data')\n",
    "    plt.plot(X_train,regressionObject.predict(X_train),color='blue',label='Best fit')\n",
    "    plt.scatter(X_test,Y_test,color='green',label='Test data')\n",
    "    plt.scatter(X_test,Y_pred,color='black',label='Pred Test data')\n",
    "    plt.title(\"Salary vs Experience\")\n",
    "    plt.xlabel(\"Years of Experience\")\n",
    "    plt.ylabel(\"Salary\")\n",
    "    plt.legend()\n",
    "    plt.show()\n",
    "\n",
    "def main():\n",
    "    welcome()\n",
    "    try:\n",
    "        csv_files=checkcsv()\n",
    "        if csv_files=='No csv file in the directory':\n",
    "            raise FileNotFoundError(\"No csv file in the directory\")\n",
    "            \n",
    "        csv_file=display_and_select_csv(csv_files)\n",
    "        print(csv_file, 'is selected')\n",
    "        print(\"Reading csv file\")\n",
    "        print(\"Creating Dataset\")\n",
    "        dataset=pd.read_csv(csv_file)\n",
    "        print(\"Dataset created\")\n",
    "        X=dataset.iloc[:,:-1].values\n",
    "        Y=dataset.iloc[:,-1].values\n",
    "        s=float(input(\"Enter test data size (between 0 and 1)\"))\n",
    "        X_train,X_test,Y_train,Y_test=train_test_split(X,Y,test_size=s)\n",
    "        print(\"Model Creation in progress\")\n",
    "        regressionObject=LinearRegression()\n",
    "        regressionObject.fit(X_train,Y_train)\n",
    "        print(\"Model is created\")\n",
    "        print(\"Press ENTER key to predict test data in trained model\")\n",
    "        input()\n",
    "        Y_pred=regressionObject.predict(X_test)\n",
    "        i=0\n",
    "        print(X_test,'....',Y_test,'....',Y_pred)\n",
    "        while i <len(X_test):\n",
    "            print(X_test[i],'....',Y_test[i],'....',Y_pred[i])\n",
    "            i+=1\n",
    "            \n",
    "        print(\"Press ENTER Key to see above result in graphical format\")\n",
    "        input()\n",
    "        graph(X_train,Y_train,regressionObject,X_test,Y_test,Y_pred)\n",
    "        r2=r2_score(Y_test,Y_pred)   \n",
    "        print(\"Our model is %2.2f%% accurate\" %(r2*100))\n",
    "        print(\"Now you can pridict salary of an employee using our model\")\n",
    "        print(\"\\nEnter experience in years for the Candidates, seprated by a comma\")\n",
    "        exp=[float(e) for e in input().split(',')]\n",
    "        ex=[]\n",
    "        \n",
    "        for x in exp:\n",
    "            ex.append([x])\n",
    "        experience=np.array(ex)\n",
    "        salaries=regressionObject.predict(experience)\n",
    "        \n",
    "        plt.scatter(experience,salaries,color='black')\n",
    "        plt.xlabel(\"Years of Experience\")\n",
    "        plt.ylabel(\"Salaries\")\n",
    "        plt.show()\n",
    "        \n",
    "        d=pd.DataFrame({'Experience':exp,'Salaries':salaries})\n",
    "        print(d)\n",
    "        \n",
    "    \n",
    "    except FileNotFoundError:\n",
    "        print('No csv file in the directory')\n",
    "        print(\"Press ENTER key to exit\")\n",
    "        input()\n",
    "        exit()\n",
    "    \n",
    "    \n",
    "if __name__==\"__main__\":\n",
    "    main()\n",
    "    input()"
   ]
  },
  {
   "cell_type": "markdown",
   "metadata": {},
   "source": [
    "## "
   ]
  }
 ],
 "metadata": {
  "kernelspec": {
   "display_name": "Python 3",
   "language": "python",
   "name": "python3"
  },
  "language_info": {
   "codemirror_mode": {
    "name": "ipython",
    "version": 3
   },
   "file_extension": ".py",
   "mimetype": "text/x-python",
   "name": "python",
   "nbconvert_exporter": "python",
   "pygments_lexer": "ipython3",
   "version": "3.7.3"
  }
 },
 "nbformat": 4,
 "nbformat_minor": 2
}
